{
 "cells": [
  {
   "cell_type": "code",
   "execution_count": 1,
   "metadata": {},
   "outputs": [],
   "source": [
    "import pandas as pd\n",
    "import numpy as np"
   ]
  },
  {
   "cell_type": "markdown",
   "metadata": {},
   "source": [
    "# Data cleaning and preparation"
   ]
  },
  {
   "cell_type": "markdown",
   "metadata": {},
   "source": [
    "We start by loading data from July to September 2022."
   ]
  },
  {
   "cell_type": "code",
   "execution_count": 2,
   "metadata": {},
   "outputs": [],
   "source": [
    "def load_data(month, days=31):\n",
    "    full_df = pd.read_csv(f\"./data/2022-{str(month)}-1.csv\")\n",
    "    for date in range(2, days+1):\n",
    "        test_df = pd.read_csv(f'./data/2022-{str(month)}-{date}.csv')\n",
    "        full_df = pd.concat([full_df, test_df])\n",
    "    full_df['timestamp'] = pd.to_datetime(full_df['timestamp'])\n",
    "    full_df = full_df.set_index('timestamp')\n",
    "    return full_df"
   ]
  },
  {
   "cell_type": "code",
   "execution_count": 3,
   "metadata": {},
   "outputs": [],
   "source": [
    "jul = load_data(7)\n",
    "aug = load_data(8)\n",
    "sep = load_data(9, days=30)\n",
    "full_data = pd.concat([jul, aug, sep])\n",
    "full_data.dropna(inplace=True)"
   ]
  },
  {
   "cell_type": "code",
   "execution_count": 4,
   "metadata": {},
   "outputs": [],
   "source": [
    "full_data['available rate'] = full_data['lots_available'] / full_data['total_lots']\n",
    "full_data.dropna(inplace=True)\n",
    "grped_full = full_data.groupby(full_data.carpark_number)"
   ]
  },
  {
   "cell_type": "markdown",
   "metadata": {},
   "source": [
    "For each carpark, we use the first 70% as training data and last 30% as testing data. We will use previous 8*24 hours availability as features to predict the next 24 hours availability.\n",
    "We slice out the data for each carpark and resample them to fill in missing values. Then we prepare training and testing features and labels."
   ]
  },
  {
   "cell_type": "code",
   "execution_count": 5,
   "metadata": {},
   "outputs": [],
   "source": [
    "# helper method to create inputs and outputs from a given dataset\n",
    "def prep_train_test(dataset, feature_len):\n",
    "    X = []\n",
    "    Y = []\n",
    "    for i in range(feature_len, len(dataset)-24):\n",
    "        X.append(dataset['available rate'][i-feature_len:i].values)\n",
    "        Y.append(dataset['available rate'][i:i+24].values)\n",
    "        # if np.isnan(X[-1]).any():\n",
    "        #     print(X[-1])\n",
    "        # if np.isnan(Y[-1]).any():\n",
    "        #     print(Y[-1])\n",
    "    return X, Y"
   ]
  },
  {
   "cell_type": "code",
   "execution_count": 6,
   "metadata": {},
   "outputs": [
    {
     "name": "stdout",
     "output_type": "stream",
     "text": [
      "total ids: 1965\n",
      "855\n",
      "Lossy data. Dropped\n",
      "100 done\n",
      "200 done\n",
      "300 done\n",
      "400 done\n",
      "500 done\n",
      "730\n",
      "Lossy data. Dropped\n",
      "730\n",
      "Lossy data. Dropped\n",
      "600 done\n",
      "700 done\n",
      "800 done\n",
      "900 done\n",
      "1000 done\n",
      "1100 done\n",
      "83\n",
      "Lossy data. Dropped\n",
      "1200 done\n",
      "1300 done\n",
      "1400 done\n",
      "1500 done\n",
      "1600 done\n",
      "1700 done\n",
      "1800 done\n",
      "1900 done\n"
     ]
    }
   ],
   "source": [
    "carparks = grped_full.carpark_number.unique()\n",
    "trainX, trainY = [], []\n",
    "testX, testY = [], []\n",
    "feature_len = 24*8\n",
    "split = 0.3\n",
    "print(\"total ids:\", len(carparks))\n",
    "index = 0\n",
    "for id in carparks:\n",
    "    slice = grped_full.get_group(id[0])\n",
    "    slice = slice.resample('1h').mean()\n",
    "    if slice.shape[0] != 2208:\n",
    "        print(slice.shape[0])\n",
    "        print(\"Lossy data. Dropped\")\n",
    "        continue\n",
    "    if slice.isnull().values.any():\n",
    "        slice.fillna(method='ffill', inplace=True)\n",
    "    split_index = int(slice.shape[0] * split)\n",
    "    X_train1, Y_train1 = prep_train_test(slice[:split_index], feature_len)\n",
    "    X_test1, Y_test1 = prep_train_test(slice[split_index:], feature_len)\n",
    "    trainX.extend(X_train1)\n",
    "    trainY.extend(Y_train1)\n",
    "    testX.extend(X_test1)\n",
    "    testY.extend(Y_test1)\n",
    "    index += 1\n",
    "    if index % 100 == 0:\n",
    "        print(index, \"done\")\n",
    "trainX = np.array(trainX)\n",
    "trainY = np.array(trainY)\n",
    "testX = np.array(testX)\n",
    "testY = np.array(testY)\n"
   ]
  },
  {
   "cell_type": "code",
   "execution_count": 7,
   "metadata": {},
   "outputs": [
    {
     "name": "stdout",
     "output_type": "stream",
     "text": [
      "train test length: (874606, 192) (874606, 24)\n",
      "testing test length: (2608130, 192) (2608130, 24)\n",
      "input shape: (192,)\n",
      "output shape: (24,)\n"
     ]
    }
   ],
   "source": [
    "print(\"train test length:\", trainX.shape, trainY.shape)\n",
    "print(\"testing test length:\", testX.shape, testY.shape)\n",
    "print(\"input shape:\", trainX[0].shape)\n",
    "print(\"output shape:\", trainY[0].shape)"
   ]
  },
  {
   "cell_type": "markdown",
   "metadata": {},
   "source": [
    "# Model 1: Multi-layer perceptron (MLP)"
   ]
  },
  {
   "cell_type": "markdown",
   "metadata": {},
   "source": [
    "### In this section, we will use MLP model to predict the parking availability within the next 24 hours"
   ]
  },
  {
   "cell_type": "code",
   "execution_count": 8,
   "metadata": {},
   "outputs": [],
   "source": [
    "# Import libraries\n",
    "from sklearn import metrics\n",
    "from sklearn.neural_network import MLPRegressor\n",
    "import matplotlib.pyplot as plt\n",
    "from sklearn.model_selection import GridSearchCV\n",
    "\n",
    "plt.style.use('ggplot')\n"
   ]
  },
  {
   "cell_type": "code",
   "execution_count": 10,
   "metadata": {},
   "outputs": [
    {
     "name": "stdout",
     "output_type": "stream",
     "text": [
      "float64 float64\n",
      "float64 float64\n",
      "False False\n",
      "False False\n",
      "(874606, 192) (874606, 24)\n",
      "(2608130, 192) (2608130, 24)\n"
     ]
    }
   ],
   "source": [
    "## Q3 data\n",
    "print(trainX.dtype,trainY.dtype)\n",
    "print(testX.dtype,testY.dtype)\n",
    "print(np.isnan(trainX).any() ,np.isnan(trainY).any())\n",
    "print(np.isnan(testX).any() ,np.isnan(testY).any())\n",
    "print(trainX.shape,trainY.shape)\n",
    "print(testX.shape,testY.shape)"
   ]
  },
  {
   "cell_type": "markdown",
   "metadata": {},
   "source": [
    "#### MLP regressor"
   ]
  },
  {
   "cell_type": "code",
   "execution_count": null,
   "metadata": {},
   "outputs": [],
   "source": [
    "#Hyperparameter tuning\n",
    "#param = {\"hidden_layer_sizes\": [(1,),(50,)], \"activation\": [\"identity\", \"logistic\", \"tanh\", \"relu\"], \"solver\": [\"lbfgs\", \"sgd\", \"adam\"], \"alpha\": [0.00005,0.0005]}\n",
    "#model = MLPRegressor()\n",
    "#gridsMLP = GridSearchCV(model,param)\n",
    "\n",
    "#gridsMLP.fit(trainX, trainY)\n",
    "\n",
    "#print(gridsMLP.best_params_)\n",
    "#print(gridsMLP.best_estimator_)\n"
   ]
  },
  {
   "cell_type": "code",
   "execution_count": 13,
   "metadata": {},
   "outputs": [
    {
     "name": "stdout",
     "output_type": "stream",
     "text": [
      "MLPRegressor(activation='identity', hidden_layer_sizes=(50,), max_iter=1000,\n",
      "             solver='lbfgs')\n"
     ]
    },
    {
     "name": "stderr",
     "output_type": "stream",
     "text": [
      "C:\\ProgramData\\Anaconda3\\lib\\site-packages\\sklearn\\neural_network\\_multilayer_perceptron.py:549: ConvergenceWarning: lbfgs failed to converge (status=1):\n",
      "STOP: TOTAL NO. of ITERATIONS REACHED LIMIT.\n",
      "\n",
      "Increase the number of iterations (max_iter) or scale the data as shown in:\n",
      "    https://scikit-learn.org/stable/modules/preprocessing.html\n",
      "  self.n_iter_ = _check_optimize_result(\"lbfgs\", opt_res, self.max_iter)\n"
     ]
    }
   ],
   "source": [
    "model = MLPRegressor(activation='identity', hidden_layer_sizes=(50,),\n",
    "             max_iter=1000, solver='lbfgs')\n",
    "model.fit(trainX, trainY)\n",
    "print(model)"
   ]
  },
  {
   "cell_type": "code",
   "execution_count": 14,
   "metadata": {},
   "outputs": [],
   "source": [
    "Y_pred = model.predict(testX)"
   ]
  },
  {
   "cell_type": "code",
   "execution_count": 15,
   "metadata": {},
   "outputs": [],
   "source": [
    "from sklearn.metrics import r2_score\n",
    "from sklearn.metrics import mean_squared_error\n",
    "from sklearn.metrics import mean_absolute_percentage_error"
   ]
  },
  {
   "cell_type": "code",
   "execution_count": 29,
   "metadata": {},
   "outputs": [
    {
     "name": "stdout",
     "output_type": "stream",
     "text": [
      "Model's r2score: 0.9478253238841058,\n",
      "RMS: 0.005035955181127225,\n",
      "Percentage Error: 13.442358901013021 %\n"
     ]
    }
   ],
   "source": [
    "mlp_r2 = metrics.r2_score(testY, Y_pred)\n",
    "mlp_rms = metrics.mean_squared_error(testY[22], Y_pred[22])\n",
    "mlp_percentage_error = mean_absolute_percentage_error(testY[22], Y_pred[22])\n",
    "print(f\"Model's r2score: {mlp_r2},\\nRMS: {mlp_rms},\\nPercentage Error: {mlp_percentage_error*100} %\")"
   ]
  },
  {
   "cell_type": "code",
   "execution_count": 30,
   "metadata": {},
   "outputs": [
    {
     "data": {
      "text/plain": [
       "<matplotlib.legend.Legend at 0x23891e48a30>"
      ]
     },
     "execution_count": 30,
     "metadata": {},
     "output_type": "execute_result"
    },
    {
     "data": {
      "image/png": "[encoded data removed]",
      "text/plain": [
       "<Figure size 432x288 with 1 Axes>"
      ]
     },
     "metadata": {},
     "output_type": "display_data"
    }
   ],
   "source": [
    "plt.plot(Y_pred[22], label='Y_pred')\n",
    "plt.plot(testY[22], label='actual')\n",
    "plt.legend()"
   ]
  },
  {
   "cell_type": "code",
   "execution_count": 31,
   "metadata": {},
   "outputs": [
    {
     "data": {
      "text/plain": [
       "Text(0, 0.5, 'Actual')"
      ]
     },
     "execution_count": 31,
     "metadata": {},
     "output_type": "execute_result"
    },
    {
     "data": {
      "image/png": "[encoded data removed]",
      "text/plain": [
       "<Figure size 432x288 with 1 Axes>"
      ]
     },
     "metadata": {},
     "output_type": "display_data"
    }
   ],
   "source": [
    "plt.scatter(Y_pred[22], testY[22], label='Y_pred', color='orange')\n",
    "plt.plot([0, 1], [0, 1], transform=plt.gca().transAxes)\n",
    "plt.xlabel('Predicted', fontsize=10)\n",
    "plt.ylabel('Actual', fontsize=10)"
   ]
  },
  {
   "cell_type": "markdown",
   "metadata": {},
   "source": [
    "# Model 2: Linear Regression"
   ]
  },
  {
   "cell_type": "markdown",
   "metadata": {},
   "source": [
    "# Model 3: LSTM"
   ]
  },
  {
   "cell_type": "markdown",
   "metadata": {},
   "source": [
    "# Overall Flow"
   ]
  },
  {
   "cell_type": "markdown",
   "metadata": {},
   "source": [
    "Suppose we have saved the most recent 8 days data in csv files. We can use the following code to generate a condensed csv file for recent data. The data in the condensed csv file will be used for prediction. Code below shows how to generate the condensed csv file from recent 8 days data."
   ]
  },
  {
   "cell_type": "code",
   "execution_count": 32,
   "metadata": {},
   "outputs": [
    {
     "name": "stdout",
     "output_type": "stream",
     "text": [
      "Lossy data. Dropped\n",
      "Y49H\n"
     ]
    }
   ],
   "source": [
    "def generate_recent_csv():\n",
    "    df = load_data(11, days=8)\n",
    "    df['available rate'] = df['lots_available'] / df['total_lots']\n",
    "    grped = df.groupby(df.carpark_number)\n",
    "    carparks = grped.carpark_number.unique()\n",
    "    carparks = [carpark[0] for carpark in carparks]\n",
    "    new_df = pd.DataFrame(columns=carparks)\n",
    "    for id in carparks:\n",
    "        slice = grped.get_group(id)\n",
    "        slice = slice.resample('1h').mean()\n",
    "        if slice.shape[0] != 24*8:\n",
    "            print(\"Lossy data. Dropped\")\n",
    "            print(id)\n",
    "            continue\n",
    "        new_df[id] = slice['available rate'].values\n",
    "    new_df.index = slice.index\n",
    "    new_df.to_csv(\"./data/recent.csv\")\n",
    "\n",
    "generate_recent_csv()"
   ]
  },
  {
   "cell_type": "code",
   "execution_count": 33,
   "metadata": {},
   "outputs": [],
   "source": [
    "from queue import PriorityQueue\n",
    "\n",
    "def find_nearest_x(x, y, location_dict):\n",
    "    shortest = PriorityQueue()\n",
    "    for key, loc in location_dict.items():\n",
    "        dist = (loc[0] - x)**2 + (loc[1] - y)**2\n",
    "        shortest.put((-dist, key))\n",
    "        if shortest.qsize() > 5:\n",
    "            shortest.get()\n",
    "    res = [shortest.get()[1] for i in range(5)]\n",
    "    res.reverse()\n",
    "    return res\n",
    "\n",
    "def create_location_dict(loc_info: pd.DataFrame):\n",
    "    location_dict = {}\n",
    "    for row in loc_info.iterrows():\n",
    "        content = row[1]\n",
    "        name = content[0]\n",
    "        location = (content[2], content[3])\n",
    "        location_dict[name] = location\n",
    "    return location_dict\n",
    "\n",
    "def model_predict(input):\n",
    "    return input[-24:].values"
   ]
  },
  {
   "cell_type": "code",
   "execution_count": 34,
   "metadata": {},
   "outputs": [
    {
     "name": "stdout",
     "output_type": "stream",
     "text": [
      "carpark ACB prediction: [0.64516129 0.64516129 0.64516129 0.55913978 0.5483871  0.52688172\n",
      " 0.43010753 0.05376344 0.08602151 0.         0.01075269 0.07526882\n",
      " 0.02150538 0.03225806 0.03225806 0.03225806 0.03225806 0.03225806\n",
      " 0.03225806 0.05376344 0.05376344        nan 0.03225806 0.03225806]\n",
      "carpark CY prediction: [0.35483871 0.35483871 0.35483871 0.16129032 0.09677419 0.16129032\n",
      " 0.         0.         0.         0.         0.         0.\n",
      " 0.         0.         0.         0.         0.         0.\n",
      " 0.         0.         0.                nan 0.         0.        ]\n",
      "carpark WCB prediction: [0.37062937 0.42657343 0.40559441 0.3986014  0.39160839 0.37762238\n",
      " 0.37762238 0.29370629 0.3006993  0.13986014 0.00699301 0.00699301\n",
      " 0.00699301 0.00699301 0.         0.         0.         0.\n",
      " 0.         0.00699301 0.00699301        nan 0.00699301 0.00699301]\n",
      "one of the nearest carpark SR2 is not in the recent data\n",
      "one of the nearest carpark SR1 is not in the recent data\n"
     ]
    }
   ],
   "source": [
    "loc_info = pd.read_csv(\"./data/hdb-carpark-information.csv\")\n",
    "recent = pd.read_csv(\"./data/recent.csv\")\n",
    "carpark_info = create_location_dict(loc_info)\n",
    "top5 = find_nearest_x(30314.7936, 31490.4942, carpark_info)\n",
    "for id in top5:\n",
    "    if id not in recent.columns:\n",
    "        print(f\"one of the nearest carpark {id} is not in the recent data\")\n",
    "        continue\n",
    "    col = recent[id][-24*8:]\n",
    "    prediction = model_predict(col)\n",
    "    print(f\"carpark {id} prediction: {prediction}\")\n"
   ]
  },
  {
   "cell_type": "code",
   "execution_count": null,
   "metadata": {},
   "outputs": [],
   "source": []
  },
  {
   "cell_type": "code",
   "execution_count": null,
   "metadata": {},
   "outputs": [],
   "source": []
  }
 ],
 "metadata": {
  "kernelspec": {
   "display_name": "Python 3 (ipykernel)",
   "language": "python",
   "name": "python3"
  },
  "language_info": {
   "codemirror_mode": {
    "name": "ipython",
    "version": 3
   },
   "file_extension": ".py",
   "mimetype": "text/x-python",
   "name": "python",
   "nbconvert_exporter": "python",
   "pygments_lexer": "ipython3",
   "version": "3.9.12"
  },
  "vscode": {
   "interpreter": {
    "hash": "06fa57ce78302be75248b003fd848fb7a1ff049a4cd6b32b7f26c1511486e4d5"
   }
  }
 },
 "nbformat": 4,
 "nbformat_minor": 2
}
