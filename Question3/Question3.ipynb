{
 "cells": [
  {
   "cell_type": "code",
   "execution_count": 1,
   "metadata": {},
   "outputs": [],
   "source": [
    "import pandas as pd\n",
    "import numpy as np"
   ]
  },
  {
   "cell_type": "markdown",
   "metadata": {},
   "source": [
    "# Data cleaning and preparation"
   ]
  },
  {
   "cell_type": "markdown",
   "metadata": {},
   "source": [
    "We start by loading data from July to September 2022."
   ]
  },
  {
   "cell_type": "code",
   "execution_count": 74,
   "metadata": {},
   "outputs": [],
   "source": [
    "def load_data(month, days=31):\n",
    "    full_df = pd.read_csv(f\"./data/2022-{str(month)}-1.csv\")\n",
    "    for date in range(2, days+1):\n",
    "        test_df = pd.read_csv(f'./data/2022-{str(month)}-{date}.csv')\n",
    "        full_df = pd.concat([full_df, test_df])\n",
    "    full_df['timestamp'] = pd.to_datetime(full_df['timestamp'])\n",
    "    full_df = full_df.set_index('timestamp')\n",
    "    return full_df"
   ]
  },
  {
   "cell_type": "code",
   "execution_count": 75,
   "metadata": {},
   "outputs": [],
   "source": [
    "jul = load_data(7)\n",
    "aug = load_data(8)\n",
    "sep = load_data(9, days=30)\n",
    "full_data = pd.concat([jul, aug, sep])\n",
    "full_data.dropna(inplace=True)"
   ]
  },
  {
   "cell_type": "code",
   "execution_count": 76,
   "metadata": {},
   "outputs": [
    {
     "data": {
      "text/html": [
       "<div>\n",
       "<style scoped>\n",
       "    .dataframe tbody tr th:only-of-type {\n",
       "        vertical-align: middle;\n",
       "    }\n",
       "\n",
       "    .dataframe tbody tr th {\n",
       "        vertical-align: top;\n",
       "    }\n",
       "\n",
       "    .dataframe thead th {\n",
       "        text-align: right;\n",
       "    }\n",
       "</style>\n",
       "<table border=\"1\" class=\"dataframe\">\n",
       "  <thead>\n",
       "    <tr style=\"text-align: right;\">\n",
       "      <th></th>\n",
       "      <th>carpark_number</th>\n",
       "      <th>total_lots</th>\n",
       "      <th>lots_available</th>\n",
       "      <th>lot_type</th>\n",
       "      <th>available rate</th>\n",
       "    </tr>\n",
       "    <tr>\n",
       "      <th>timestamp</th>\n",
       "      <th></th>\n",
       "      <th></th>\n",
       "      <th></th>\n",
       "      <th></th>\n",
       "      <th></th>\n",
       "    </tr>\n",
       "  </thead>\n",
       "  <tbody>\n",
       "    <tr>\n",
       "      <th>2022-09-30 23:00:00</th>\n",
       "      <td>B65M</td>\n",
       "      <td>679</td>\n",
       "      <td>354</td>\n",
       "      <td>C</td>\n",
       "      <td>0.521355</td>\n",
       "    </tr>\n",
       "    <tr>\n",
       "      <th>2022-09-30 23:00:00</th>\n",
       "      <td>B65L</td>\n",
       "      <td>5</td>\n",
       "      <td>0</td>\n",
       "      <td>C</td>\n",
       "      <td>0.000000</td>\n",
       "    </tr>\n",
       "    <tr>\n",
       "      <th>2022-09-30 23:00:00</th>\n",
       "      <td>BE3</td>\n",
       "      <td>306</td>\n",
       "      <td>69</td>\n",
       "      <td>C</td>\n",
       "      <td>0.225490</td>\n",
       "    </tr>\n",
       "    <tr>\n",
       "      <th>2022-09-30 23:00:00</th>\n",
       "      <td>BE3R</td>\n",
       "      <td>195</td>\n",
       "      <td>81</td>\n",
       "      <td>C</td>\n",
       "      <td>0.415385</td>\n",
       "    </tr>\n",
       "    <tr>\n",
       "      <th>2022-09-30 23:00:00</th>\n",
       "      <td>B8B</td>\n",
       "      <td>249</td>\n",
       "      <td>136</td>\n",
       "      <td>C</td>\n",
       "      <td>0.546185</td>\n",
       "    </tr>\n",
       "  </tbody>\n",
       "</table>\n",
       "</div>"
      ],
      "text/plain": [
       "                    carpark_number  total_lots  lots_available lot_type  \\\n",
       "timestamp                                                                 \n",
       "2022-09-30 23:00:00           B65M         679             354        C   \n",
       "2022-09-30 23:00:00           B65L           5               0        C   \n",
       "2022-09-30 23:00:00            BE3         306              69        C   \n",
       "2022-09-30 23:00:00           BE3R         195              81        C   \n",
       "2022-09-30 23:00:00            B8B         249             136        C   \n",
       "\n",
       "                     available rate  \n",
       "timestamp                            \n",
       "2022-09-30 23:00:00        0.521355  \n",
       "2022-09-30 23:00:00        0.000000  \n",
       "2022-09-30 23:00:00        0.225490  \n",
       "2022-09-30 23:00:00        0.415385  \n",
       "2022-09-30 23:00:00        0.546185  "
      ]
     },
     "execution_count": 76,
     "metadata": {},
     "output_type": "execute_result"
    }
   ],
   "source": [
    "full_data['available rate'] = full_data['lots_available'] / full_data['total_lots']\n",
    "full_data.dropna(inplace=True)\n",
    "full_data.tail()\n",
    "# grped_full = full_data.groupby(full_data.carpark_number)"
   ]
  },
  {
   "cell_type": "markdown",
   "metadata": {},
   "source": [
    "For each carpark, we use the first 70% as training data and last 30% as testing data. We will use previous 8*24 hours availability as features to predict the next 24 hours availability.\n",
    "We slice out the data for each carpark and resample them to fill in missing values. Then we prepare training and testing features and labels."
   ]
  },
  {
   "cell_type": "code",
   "execution_count": 77,
   "metadata": {},
   "outputs": [],
   "source": [
    "# helper method to create inputs and outputs from a given dataset\n",
    "def prep_train_test(dataset, feature_len):\n",
    "    X = []\n",
    "    Y = []\n",
    "    for i in range(feature_len, len(dataset)-24):\n",
    "        X.append(dataset['available rate'][i-feature_len:i].values)\n",
    "        Y.append(dataset['available rate'][i:i+24].values)\n",
    "    return X, Y"
   ]
  },
  {
   "cell_type": "code",
   "execution_count": 78,
   "metadata": {},
   "outputs": [
    {
     "name": "stdout",
     "output_type": "stream",
     "text": [
      "total ids: 1965\n"
     ]
    },
    {
     "name": "stderr",
     "output_type": "stream",
     "text": [
      "/var/folders/_b/lkm0k5zn1cq5vrps1mrqwcb00000gn/T/ipykernel_82585/4096007047.py:12: FutureWarning: The default value of numeric_only in DataFrameGroupBy.mean is deprecated. In a future version, numeric_only will default to False. Either specify numeric_only or select only columns which should be valid for the function.\n",
      "  slice = slice.resample('1h').mean()\n"
     ]
    },
    {
     "name": "stdout",
     "output_type": "stream",
     "text": [
      "Lossy data. Dropped\n",
      "100 done\n",
      "200 done\n",
      "300 done\n",
      "400 done\n",
      "500 done\n",
      "Lossy data. Dropped\n",
      "Lossy data. Dropped\n",
      "600 done\n",
      "700 done\n",
      "800 done\n",
      "900 done\n",
      "1000 done\n",
      "1100 done\n",
      "Lossy data. Dropped\n",
      "1200 done\n",
      "1300 done\n",
      "1400 done\n",
      "1500 done\n",
      "1600 done\n",
      "1700 done\n",
      "1800 done\n",
      "1900 done\n"
     ]
    }
   ],
   "source": [
    "carparks = grped_full.carpark_number.unique()\n",
    "trainX, trainY = [], []\n",
    "testX, testY = [], []\n",
    "feature_len = 24*8\n",
    "split = 0.3\n",
    "print(\"total ids:\", len(carparks))\n",
    "index = 0\n",
    "for id in carparks:\n",
    "    slice = grped_full.get_group(id[0])\n",
    "    if slice.isnull().values.any():\n",
    "        print(slice.isnull().sum())\n",
    "    slice = slice.resample('1h').mean()\n",
    "    if slice.shape[0] != 2208:\n",
    "        print(\"Lossy data. Dropped\")\n",
    "        continue\n",
    "    split_index = int(slice.shape[0] * split)\n",
    "    X_train1, Y_train1 = prep_train_test(slice[:split_index], feature_len)\n",
    "    X_test1, Y_test1 = prep_train_test(slice[split_index:], feature_len)\n",
    "    trainX.extend(X_train1)\n",
    "    trainY.extend(Y_train1)\n",
    "    testX.extend(X_test1)\n",
    "    testY.extend(Y_test1)\n",
    "    index += 1\n",
    "    if index % 100 == 0:\n",
    "        print(index, \"done\")\n",
    "trainX = np.array(trainX)\n",
    "trainY = np.array(trainY)\n",
    "testX = np.array(testX)\n",
    "testY = np.array(testY)\n"
   ]
  },
  {
   "cell_type": "code",
   "execution_count": 79,
   "metadata": {},
   "outputs": [
    {
     "name": "stdout",
     "output_type": "stream",
     "text": [
      "train test length: (874606, 192) (874606, 24)\n",
      "testing test length: (2608130, 192) (2608130, 24)\n",
      "input shape: (192,)\n",
      "output shape: (24,)\n"
     ]
    }
   ],
   "source": [
    "print(\"train test length:\", trainX.shape, trainY.shape)\n",
    "print(\"testing test length:\", testX.shape, testY.shape)\n",
    "print(\"input shape:\", trainX[0].shape)\n",
    "print(\"output shape:\", trainY[0].shape)"
   ]
  },
  {
   "cell_type": "markdown",
   "metadata": {},
   "source": [
    "# Model 1: Multi-layer perceptron (MLP)"
   ]
  },
  {
   "cell_type": "markdown",
   "metadata": {},
   "source": [
    "### In this section, we will use MLP model to predict the parking availability within the next 24 hours"
   ]
  },
  {
   "cell_type": "code",
   "execution_count": 80,
   "metadata": {},
   "outputs": [],
   "source": [
    "# Import libraries\n",
    "from sklearn import metrics\n",
    "from sklearn.neural_network import MLPRegressor\n",
    "import matplotlib.pyplot as plt\n",
    "from sklearn.model_selection import GridSearchCV\n",
    "\n",
    "plt.style.use('ggplot')\n"
   ]
  },
  {
   "cell_type": "code",
   "execution_count": 31,
   "metadata": {},
   "outputs": [],
   "source": [
    "## Q2 data \n",
    "def prep_train_test_Q2(dataset, feature_len):\n",
    "    X = []\n",
    "    Y = []\n",
    "    for i in range(feature_len, len(dataset)):\n",
    "        X.append(dataset['available rate'][i-feature_len:i].values)\n",
    "        Y.append(dataset['available rate'][i])\n",
    "    X = np.array(X)\n",
    "    Y = np.array(Y)\n",
    "    print(X.shape, Y.shape)\n",
    "    return X, Y"
   ]
  },
  {
   "cell_type": "code",
   "execution_count": 32,
   "metadata": {},
   "outputs": [
    {
     "name": "stderr",
     "output_type": "stream",
     "text": [
      "/var/folders/_b/lkm0k5zn1cq5vrps1mrqwcb00000gn/T/ipykernel_82585/3714205907.py:6: FutureWarning: The default value of numeric_only in DataFrameGroupBy.mean is deprecated. In a future version, numeric_only will default to False. Either specify numeric_only or select only columns which should be valid for the function.\n",
      "  jul = jul.resample('1h').mean()\n",
      "/var/folders/_b/lkm0k5zn1cq5vrps1mrqwcb00000gn/T/ipykernel_82585/3714205907.py:9: FutureWarning: The default value of numeric_only in DataFrameGroupBy.mean is deprecated. In a future version, numeric_only will default to False. Either specify numeric_only or select only columns which should be valid for the function.\n",
      "  aug = aug.resample('1h').mean()\n"
     ]
    }
   ],
   "source": [
    "## Q2 data\n",
    "rg_jul = pd.Series(pd.date_range(\n",
    "    '7/1/2022', '8/1/2022', freq='1h', inclusive='left'))\n",
    "rg_aug = pd.Series(pd.date_range(\n",
    "    '8/1/2022', '9/1/2022', freq='1h', inclusive='left'))\n",
    "jul = jul.resample('1h').mean()\n",
    "jul['available rate'] = jul['lots_available'] / jul['total_lots']\n",
    "\n",
    "aug = aug.resample('1h').mean()\n",
    "aug['available rate'] = aug['lots_available'] / aug['total_lots']\n",
    "\n"
   ]
  },
  {
   "cell_type": "code",
   "execution_count": 81,
   "metadata": {},
   "outputs": [
    {
     "name": "stdout",
     "output_type": "stream",
     "text": [
      "float64 float64\n",
      "float64 float64\n",
      "False False\n",
      "True True\n",
      "(874606, 192) (874606, 24)\n",
      "(2608130, 192) (2608130, 24)\n"
     ]
    }
   ],
   "source": [
    "## Q3 data\n",
    "print(trainX.dtype,trainY.dtype)\n",
    "print(testX.dtype,testY.dtype)\n",
    "print(np.isnan(trainX).any() ,np.isnan(trainY).any())\n",
    "print(np.isnan(testX).any() ,np.isnan(testY).any())\n",
    "print(trainX.shape,trainY.shape)\n",
    "print(testX.shape,testY.shape)"
   ]
  },
  {
   "cell_type": "code",
   "execution_count": 65,
   "metadata": {},
   "outputs": [
    {
     "name": "stdout",
     "output_type": "stream",
     "text": [
      "MLPRegressor(hidden_layer_sizes=(50,), max_iter=1000)\n"
     ]
    }
   ],
   "source": [
    "## Q3 data for modelling, not working\n",
    "model = MLPRegressor(activation='relu', hidden_layer_sizes=(50,),\n",
    "             max_iter=1000, solver='adam')\n",
    "model.fit(trainX,trainY)\n",
    "print(model)"
   ]
  },
  {
   "cell_type": "code",
   "execution_count": 17,
   "metadata": {},
   "outputs": [
    {
     "name": "stdout",
     "output_type": "stream",
     "text": [
      "(552, 192) (552,)\n",
      "(552, 192) (552,)\n"
     ]
    }
   ],
   "source": [
    "## Q3 data for modelling\n",
    "feature_len1 = 24*8\n",
    "X_train1, Y_train1 = prep_train_test_Q2(jul, feature_len1)\n",
    "X_test1, Y_test1 = prep_train_test_Q2(aug, feature_len1)\n"
   ]
  },
  {
   "cell_type": "markdown",
   "metadata": {},
   "source": [
    "#### MLP regressor"
   ]
  },
  {
   "cell_type": "code",
   "execution_count": 44,
   "metadata": {},
   "outputs": [
    {
     "name": "stdout",
     "output_type": "stream",
     "text": [
      "{'activation': 'identity', 'alpha': 0.0005, 'hidden_layer_sizes': (1,), 'solver': 'lbfgs'}\n",
      "MLPRegressor(activation='identity', alpha=0.0005, hidden_layer_sizes=(1,),\n",
      "             max_iter=1000, solver='lbfgs')\n"
     ]
    }
   ],
   "source": [
    "#Hyperparameter tuning\n",
    "param = {\"hidden_layer_sizes\": [(1,),(50,)], \"activation\": [\"identity\", \"logistic\", \"tanh\", \"relu\"], \"solver\": [\"lbfgs\", \"sgd\", \"adam\"], \"alpha\": [0.00005,0.0005]}\n",
    "model = MLPRegressor(max_iter = 1000)\n",
    "gridsMLP = GridSearchCV(model,param)\n",
    "\n",
    "gridsMLP.fit(X_train1,Y_train1)\n",
    "\n",
    "print(gridsMLP.best_params_)\n",
    "print(gridsMLP.best_estimator_)\n"
   ]
  },
  {
   "cell_type": "code",
   "execution_count": 45,
   "metadata": {},
   "outputs": [
    {
     "name": "stdout",
     "output_type": "stream",
     "text": [
      "MLPRegressor(activation='identity', hidden_layer_sizes=(50,), max_iter=1000,\n",
      "             solver='lbfgs')\n"
     ]
    }
   ],
   "source": [
    "model = MLPRegressor(activation='identity', hidden_layer_sizes=(50,),\n",
    "             max_iter=1000, solver='lbfgs')\n",
    "model.fit(X_train1,Y_train1)\n",
    "print(model)"
   ]
  },
  {
   "cell_type": "code",
   "execution_count": 66,
   "metadata": {},
   "outputs": [
    {
     "ename": "ValueError",
     "evalue": "Input X contains NaN.\nMLPRegressor does not accept missing values encoded as NaN natively. For supervised learning, you might want to consider sklearn.ensemble.HistGradientBoostingClassifier and Regressor which accept missing values encoded as NaNs natively. Alternatively, it is possible to preprocess the data, for instance by using an imputer transformer in a pipeline or drop samples with missing values. See https://scikit-learn.org/stable/modules/impute.html You can find a list of all estimators that handle NaN values at the following page: https://scikit-learn.org/stable/modules/impute.html#estimators-that-handle-nan-values",
     "output_type": "error",
     "traceback": [
      "\u001b[0;31m---------------------------------------------------------------------------\u001b[0m",
      "\u001b[0;31mValueError\u001b[0m                                Traceback (most recent call last)",
      "\u001b[1;32m/Users/zesong/Desktop/EE4211-Projec22/Question3/Question3.ipynb Cell 22\u001b[0m in \u001b[0;36m<cell line: 1>\u001b[0;34m()\u001b[0m\n\u001b[0;32m----> <a href='vscode-notebook-cell:/Users/zesong/Desktop/EE4211-Projec22/Question3/Question3.ipynb#X60sZmlsZQ%3D%3D?line=0'>1</a>\u001b[0m Y_pred \u001b[39m=\u001b[39m model\u001b[39m.\u001b[39;49mpredict(testX)\n",
      "File \u001b[0;32m~/miniforge3/envs/apple_tensorflow/lib/python3.8/site-packages/sklearn/neural_network/_multilayer_perceptron.py:1591\u001b[0m, in \u001b[0;36mMLPRegressor.predict\u001b[0;34m(self, X)\u001b[0m\n\u001b[1;32m   1578\u001b[0m \u001b[39m\"\"\"Predict using the multi-layer perceptron model.\u001b[39;00m\n\u001b[1;32m   1579\u001b[0m \n\u001b[1;32m   1580\u001b[0m \u001b[39mParameters\u001b[39;00m\n\u001b[0;32m   (...)\u001b[0m\n\u001b[1;32m   1588\u001b[0m \u001b[39m    The predicted values.\u001b[39;00m\n\u001b[1;32m   1589\u001b[0m \u001b[39m\"\"\"\u001b[39;00m\n\u001b[1;32m   1590\u001b[0m check_is_fitted(\u001b[39mself\u001b[39m)\n\u001b[0;32m-> 1591\u001b[0m y_pred \u001b[39m=\u001b[39m \u001b[39mself\u001b[39;49m\u001b[39m.\u001b[39;49m_forward_pass_fast(X)\n\u001b[1;32m   1592\u001b[0m \u001b[39mif\u001b[39;00m y_pred\u001b[39m.\u001b[39mshape[\u001b[39m1\u001b[39m] \u001b[39m==\u001b[39m \u001b[39m1\u001b[39m:\n\u001b[1;32m   1593\u001b[0m     \u001b[39mreturn\u001b[39;00m y_pred\u001b[39m.\u001b[39mravel()\n",
      "File \u001b[0;32m~/miniforge3/envs/apple_tensorflow/lib/python3.8/site-packages/sklearn/neural_network/_multilayer_perceptron.py:160\u001b[0m, in \u001b[0;36mBaseMultilayerPerceptron._forward_pass_fast\u001b[0;34m(self, X)\u001b[0m\n\u001b[1;32m    144\u001b[0m \u001b[39mdef\u001b[39;00m \u001b[39m_forward_pass_fast\u001b[39m(\u001b[39mself\u001b[39m, X):\n\u001b[1;32m    145\u001b[0m     \u001b[39m\"\"\"Predict using the trained model\u001b[39;00m\n\u001b[1;32m    146\u001b[0m \n\u001b[1;32m    147\u001b[0m \u001b[39m    This is the same as _forward_pass but does not record the activations\u001b[39;00m\n\u001b[0;32m   (...)\u001b[0m\n\u001b[1;32m    158\u001b[0m \u001b[39m        The decision function of the samples for each class in the model.\u001b[39;00m\n\u001b[1;32m    159\u001b[0m \u001b[39m    \"\"\"\u001b[39;00m\n\u001b[0;32m--> 160\u001b[0m     X \u001b[39m=\u001b[39m \u001b[39mself\u001b[39;49m\u001b[39m.\u001b[39;49m_validate_data(X, accept_sparse\u001b[39m=\u001b[39;49m[\u001b[39m\"\u001b[39;49m\u001b[39mcsr\u001b[39;49m\u001b[39m\"\u001b[39;49m, \u001b[39m\"\u001b[39;49m\u001b[39mcsc\u001b[39;49m\u001b[39m\"\u001b[39;49m], reset\u001b[39m=\u001b[39;49m\u001b[39mFalse\u001b[39;49;00m)\n\u001b[1;32m    162\u001b[0m     \u001b[39m# Initialize first layer\u001b[39;00m\n\u001b[1;32m    163\u001b[0m     activation \u001b[39m=\u001b[39m X\n",
      "File \u001b[0;32m~/miniforge3/envs/apple_tensorflow/lib/python3.8/site-packages/sklearn/base.py:577\u001b[0m, in \u001b[0;36mBaseEstimator._validate_data\u001b[0;34m(self, X, y, reset, validate_separately, **check_params)\u001b[0m\n\u001b[1;32m    575\u001b[0m     \u001b[39mraise\u001b[39;00m \u001b[39mValueError\u001b[39;00m(\u001b[39m\"\u001b[39m\u001b[39mValidation should be done on X, y or both.\u001b[39m\u001b[39m\"\u001b[39m)\n\u001b[1;32m    576\u001b[0m \u001b[39melif\u001b[39;00m \u001b[39mnot\u001b[39;00m no_val_X \u001b[39mand\u001b[39;00m no_val_y:\n\u001b[0;32m--> 577\u001b[0m     X \u001b[39m=\u001b[39m check_array(X, input_name\u001b[39m=\u001b[39;49m\u001b[39m\"\u001b[39;49m\u001b[39mX\u001b[39;49m\u001b[39m\"\u001b[39;49m, \u001b[39m*\u001b[39;49m\u001b[39m*\u001b[39;49mcheck_params)\n\u001b[1;32m    578\u001b[0m     out \u001b[39m=\u001b[39m X\n\u001b[1;32m    579\u001b[0m \u001b[39melif\u001b[39;00m no_val_X \u001b[39mand\u001b[39;00m \u001b[39mnot\u001b[39;00m no_val_y:\n",
      "File \u001b[0;32m~/miniforge3/envs/apple_tensorflow/lib/python3.8/site-packages/sklearn/utils/validation.py:899\u001b[0m, in \u001b[0;36mcheck_array\u001b[0;34m(array, accept_sparse, accept_large_sparse, dtype, order, copy, force_all_finite, ensure_2d, allow_nd, ensure_min_samples, ensure_min_features, estimator, input_name)\u001b[0m\n\u001b[1;32m    893\u001b[0m         \u001b[39mraise\u001b[39;00m \u001b[39mValueError\u001b[39;00m(\n\u001b[1;32m    894\u001b[0m             \u001b[39m\"\u001b[39m\u001b[39mFound array with dim \u001b[39m\u001b[39m%d\u001b[39;00m\u001b[39m. \u001b[39m\u001b[39m%s\u001b[39;00m\u001b[39m expected <= 2.\u001b[39m\u001b[39m\"\u001b[39m\n\u001b[1;32m    895\u001b[0m             \u001b[39m%\u001b[39m (array\u001b[39m.\u001b[39mndim, estimator_name)\n\u001b[1;32m    896\u001b[0m         )\n\u001b[1;32m    898\u001b[0m     \u001b[39mif\u001b[39;00m force_all_finite:\n\u001b[0;32m--> 899\u001b[0m         _assert_all_finite(\n\u001b[1;32m    900\u001b[0m             array,\n\u001b[1;32m    901\u001b[0m             input_name\u001b[39m=\u001b[39;49minput_name,\n\u001b[1;32m    902\u001b[0m             estimator_name\u001b[39m=\u001b[39;49mestimator_name,\n\u001b[1;32m    903\u001b[0m             allow_nan\u001b[39m=\u001b[39;49mforce_all_finite \u001b[39m==\u001b[39;49m \u001b[39m\"\u001b[39;49m\u001b[39mallow-nan\u001b[39;49m\u001b[39m\"\u001b[39;49m,\n\u001b[1;32m    904\u001b[0m         )\n\u001b[1;32m    906\u001b[0m \u001b[39mif\u001b[39;00m ensure_min_samples \u001b[39m>\u001b[39m \u001b[39m0\u001b[39m:\n\u001b[1;32m    907\u001b[0m     n_samples \u001b[39m=\u001b[39m _num_samples(array)\n",
      "File \u001b[0;32m~/miniforge3/envs/apple_tensorflow/lib/python3.8/site-packages/sklearn/utils/validation.py:146\u001b[0m, in \u001b[0;36m_assert_all_finite\u001b[0;34m(X, allow_nan, msg_dtype, estimator_name, input_name)\u001b[0m\n\u001b[1;32m    124\u001b[0m         \u001b[39mif\u001b[39;00m (\n\u001b[1;32m    125\u001b[0m             \u001b[39mnot\u001b[39;00m allow_nan\n\u001b[1;32m    126\u001b[0m             \u001b[39mand\u001b[39;00m estimator_name\n\u001b[0;32m   (...)\u001b[0m\n\u001b[1;32m    130\u001b[0m             \u001b[39m# Improve the error message on how to handle missing values in\u001b[39;00m\n\u001b[1;32m    131\u001b[0m             \u001b[39m# scikit-learn.\u001b[39;00m\n\u001b[1;32m    132\u001b[0m             msg_err \u001b[39m+\u001b[39m\u001b[39m=\u001b[39m (\n\u001b[1;32m    133\u001b[0m                 \u001b[39mf\u001b[39m\u001b[39m\"\u001b[39m\u001b[39m\\n\u001b[39;00m\u001b[39m{\u001b[39;00mestimator_name\u001b[39m}\u001b[39;00m\u001b[39m does not accept missing values\u001b[39m\u001b[39m\"\u001b[39m\n\u001b[1;32m    134\u001b[0m                 \u001b[39m\"\u001b[39m\u001b[39m encoded as NaN natively. For supervised learning, you might want\u001b[39m\u001b[39m\"\u001b[39m\n\u001b[0;32m   (...)\u001b[0m\n\u001b[1;32m    144\u001b[0m                 \u001b[39m\"\u001b[39m\u001b[39m#estimators-that-handle-nan-values\u001b[39m\u001b[39m\"\u001b[39m\n\u001b[1;32m    145\u001b[0m             )\n\u001b[0;32m--> 146\u001b[0m         \u001b[39mraise\u001b[39;00m \u001b[39mValueError\u001b[39;00m(msg_err)\n\u001b[1;32m    148\u001b[0m \u001b[39m# for object dtype data, we only check for NaNs (GH-13254)\u001b[39;00m\n\u001b[1;32m    149\u001b[0m \u001b[39melif\u001b[39;00m X\u001b[39m.\u001b[39mdtype \u001b[39m==\u001b[39m np\u001b[39m.\u001b[39mdtype(\u001b[39m\"\u001b[39m\u001b[39mobject\u001b[39m\u001b[39m\"\u001b[39m) \u001b[39mand\u001b[39;00m \u001b[39mnot\u001b[39;00m allow_nan:\n",
      "\u001b[0;31mValueError\u001b[0m: Input X contains NaN.\nMLPRegressor does not accept missing values encoded as NaN natively. For supervised learning, you might want to consider sklearn.ensemble.HistGradientBoostingClassifier and Regressor which accept missing values encoded as NaNs natively. Alternatively, it is possible to preprocess the data, for instance by using an imputer transformer in a pipeline or drop samples with missing values. See https://scikit-learn.org/stable/modules/impute.html You can find a list of all estimators that handle NaN values at the following page: https://scikit-learn.org/stable/modules/impute.html#estimators-that-handle-nan-values"
     ]
    }
   ],
   "source": [
    "Y_pred = model.predict(testX)"
   ]
  },
  {
   "cell_type": "code",
   "execution_count": 47,
   "metadata": {},
   "outputs": [],
   "source": [
    "from sklearn.metrics import r2_score\n",
    "from sklearn.metrics import mean_squared_error\n",
    "from sklearn.metrics import mean_absolute_percentage_error"
   ]
  },
  {
   "cell_type": "code",
   "execution_count": 48,
   "metadata": {},
   "outputs": [
    {
     "name": "stdout",
     "output_type": "stream",
     "text": [
      "Model's r2score: 0.9725534679430727,\n",
      "RMS: 8.498077734754703e-05,\n",
      "Percentage Error: 1.7922200638061305 %\n"
     ]
    }
   ],
   "source": [
    "mlp_r2 = metrics.r2_score(Y_test1, Y_pred)\n",
    "mlp_rms = metrics.mean_squared_log_error(Y_test1, Y_pred)\n",
    "mlp_percentage_error = mean_absolute_percentage_error(Y_test1, Y_pred)\n",
    "print(f\"Model's r2score: {mlp_r2},\\nRMS: {mlp_rms},\\nPercentage Error: {mlp_percentage_error*100} %\")"
   ]
  },
  {
   "cell_type": "code",
   "execution_count": 49,
   "metadata": {},
   "outputs": [
    {
     "data": {
      "text/plain": [
       "<matplotlib.legend.Legend at 0x21b283f9e20>"
      ]
     },
     "execution_count": 49,
     "metadata": {},
     "output_type": "execute_result"
    },
    {
     "data": {
      "image/png": "[encoded data removed]",
      "text/plain": [
       "<Figure size 432x288 with 1 Axes>"
      ]
     },
     "metadata": {},
     "output_type": "display_data"
    }
   ],
   "source": [
    "plt.plot(Y_pred, label='Y_pred')\n",
    "plt.plot(Y_test1, label='actual')\n",
    "plt.legend()"
   ]
  },
  {
   "cell_type": "code",
   "execution_count": 50,
   "metadata": {},
   "outputs": [
    {
     "data": {
      "text/plain": [
       "Text(0, 0.5, 'Actual')"
      ]
     },
     "execution_count": 50,
     "metadata": {},
     "output_type": "execute_result"
    },
    {
     "data": {
      "image/png": "[encoded data removed]",
      "text/plain": [
       "<Figure size 432x288 with 1 Axes>"
      ]
     },
     "metadata": {},
     "output_type": "display_data"
    }
   ],
   "source": [
    "plt.scatter(Y_pred, Y_test1, label='Y_pred', color='orange')\n",
    "plt.plot([0, 1], [0, 1], transform=plt.gca().transAxes)\n",
    "plt.xlabel('Predicted', fontsize=10)\n",
    "plt.ylabel('Actual', fontsize=10)"
   ]
  },
  {
   "cell_type": "markdown",
   "metadata": {},
   "source": [
    "# Model 2: Linear Regression"
   ]
  },
  {
   "cell_type": "markdown",
   "metadata": {},
   "source": [
    "# Model 3: LSTM"
   ]
  },
  {
   "cell_type": "markdown",
   "metadata": {},
   "source": [
    "# Overall Flow"
   ]
  },
  {
   "cell_type": "markdown",
   "metadata": {},
   "source": [
    "Suppose we have saved the most recent 8 days data in csv files. We can use the following code to generate a condensed csv file for recent data. The data in the condensed csv file will be used for prediction. Code below shows how to generate the condensed csv file from recent 8 days data."
   ]
  },
  {
   "cell_type": "code",
   "execution_count": 42,
   "metadata": {},
   "outputs": [
    {
     "name": "stdout",
     "output_type": "stream",
     "text": [
      "Lossy data. Dropped\n",
      "Y49H\n"
     ]
    }
   ],
   "source": [
    "def generate_recent_csv():\n",
    "    df = load_data(11, days=8)\n",
    "    df['available rate'] = df['lots_available'] / df['total_lots']\n",
    "    grped = df.groupby(df.carpark_number)\n",
    "    carparks = grped.carpark_number.unique()\n",
    "    carparks = [carpark[0] for carpark in carparks]\n",
    "    new_df = pd.DataFrame(columns=carparks)\n",
    "    for id in carparks:\n",
    "        slice = grped.get_group(id)\n",
    "        slice = slice.resample('1h').mean()\n",
    "        if slice.shape[0] != 24*8:\n",
    "            print(\"Lossy data. Dropped\")\n",
    "            print(id)\n",
    "            continue\n",
    "        new_df[id] = slice['available rate'].values\n",
    "    new_df.index = slice.index\n",
    "    new_df.to_csv(\"./data/recent.csv\")\n",
    "\n",
    "generate_recent_csv()"
   ]
  },
  {
   "cell_type": "code",
   "execution_count": 14,
   "metadata": {},
   "outputs": [],
   "source": [
    "from queue import PriorityQueue\n",
    "\n",
    "def find_nearest_x(x, y, location_dict):\n",
    "    shortest = PriorityQueue()\n",
    "    for key, loc in location_dict.items():\n",
    "        dist = (loc[0] - x)**2 + (loc[1] - y)**2\n",
    "        shortest.put((-dist, key))\n",
    "        if shortest.qsize() > 5:\n",
    "            shortest.get()\n",
    "    res = [shortest.get()[1] for i in range(5)]\n",
    "    res.reverse()\n",
    "    return res\n",
    "\n",
    "def create_location_dict(loc_info: pd.DataFrame):\n",
    "    location_dict = {}\n",
    "    for row in loc_info.iterrows():\n",
    "        content = row[1]\n",
    "        name = content[0]\n",
    "        location = (content[2], content[3])\n",
    "        location_dict[name] = location\n",
    "    return location_dict\n",
    "\n",
    "def model_predict(input):\n",
    "    return input[-24:].values"
   ]
  },
  {
   "cell_type": "code",
   "execution_count": 15,
   "metadata": {},
   "outputs": [
    {
     "name": "stdout",
     "output_type": "stream",
     "text": [
      "carpark ACB prediction: [0.64516129 0.64516129 0.64516129 0.55913978 0.5483871  0.52688172\n",
      " 0.43010753 0.05376344 0.08602151 0.         0.01075269 0.07526882\n",
      " 0.02150538 0.03225806 0.03225806 0.03225806 0.03225806 0.03225806\n",
      " 0.03225806 0.05376344 0.05376344        nan 0.03225806 0.03225806]\n",
      "carpark CY prediction: [0.35483871 0.35483871 0.35483871 0.16129032 0.09677419 0.16129032\n",
      " 0.         0.         0.         0.         0.         0.\n",
      " 0.         0.         0.         0.         0.         0.\n",
      " 0.         0.         0.                nan 0.         0.        ]\n",
      "carpark WCB prediction: [0.37062937 0.42657343 0.40559441 0.3986014  0.39160839 0.37762238\n",
      " 0.37762238 0.29370629 0.3006993  0.13986014 0.00699301 0.00699301\n",
      " 0.00699301 0.00699301 0.         0.         0.         0.\n",
      " 0.         0.00699301 0.00699301        nan 0.00699301 0.00699301]\n",
      "one of the nearest carpark SR2 is not in the recent data\n",
      "one of the nearest carpark SR1 is not in the recent data\n"
     ]
    }
   ],
   "source": [
    "loc_info = pd.read_csv(\"./data/hdb-carpark-information.csv\")\n",
    "recent = pd.read_csv(\"./data/recent.csv\")\n",
    "carpark_info = create_location_dict(loc_info)\n",
    "top5 = find_nearest_x(30314.7936, 31490.4942, carpark_info)\n",
    "for id in top5:\n",
    "    if id not in recent.columns:\n",
    "        print(f\"one of the nearest carpark {id} is not in the recent data\")\n",
    "        continue\n",
    "    col = recent[id][-24*8:]\n",
    "    prediction = model_predict(col)\n",
    "    print(f\"carpark {id} prediction: {prediction}\")\n"
   ]
  },
  {
   "cell_type": "code",
   "execution_count": null,
   "metadata": {},
   "outputs": [],
   "source": []
  },
  {
   "cell_type": "code",
   "execution_count": null,
   "metadata": {},
   "outputs": [],
   "source": []
  }
 ],
 "metadata": {
  "kernelspec": {
   "display_name": "Python 3 (ipykernel)",
   "language": "python",
   "name": "python3"
  },
  "language_info": {
   "codemirror_mode": {
    "name": "ipython",
    "version": 3
   },
   "file_extension": ".py",
   "mimetype": "text/x-python",
   "name": "python",
   "nbconvert_exporter": "python",
   "pygments_lexer": "ipython3",
   "version": "3.8.13"
  },
  "vscode": {
   "interpreter": {
    "hash": "06fa57ce78302be75248b003fd848fb7a1ff049a4cd6b32b7f26c1511486e4d5"
   }
  }
 },
 "nbformat": 4,
 "nbformat_minor": 2
}
