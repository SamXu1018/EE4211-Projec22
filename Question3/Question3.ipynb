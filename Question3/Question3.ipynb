{
 "cells": [
  {
   "cell_type": "code",
   "execution_count": 1,
   "metadata": {},
   "outputs": [],
   "source": [
    "import pandas as pd\n",
    "import numpy as np"
   ]
  },
  {
   "cell_type": "markdown",
   "metadata": {},
   "source": [
    "# Data cleaning and preparation"
   ]
  },
  {
   "cell_type": "markdown",
   "metadata": {},
   "source": [
    "We start by loading data from July to September 2022."
   ]
  },
  {
   "cell_type": "code",
   "execution_count": 2,
   "metadata": {},
   "outputs": [],
   "source": [
    "def load_data(month, days=31):\n",
    "    full_df = pd.read_csv(f\"./data/2022-{str(month)}-1.csv\")\n",
    "    for date in range(2, days+1):\n",
    "        test_df = pd.read_csv(f'./data/2022-{str(month)}-{date}.csv')\n",
    "        full_df = pd.concat([full_df, test_df])\n",
    "    full_df['timestamp'] = pd.to_datetime(full_df['timestamp'])\n",
    "    full_df = full_df.set_index('timestamp')\n",
    "    return full_df"
   ]
  },
  {
   "cell_type": "code",
   "execution_count": 3,
   "metadata": {},
   "outputs": [],
   "source": [
    "jul = load_data(7)\n",
    "aug = load_data(8)\n",
    "sep = load_data(9, days=30)\n",
    "full_data = pd.concat([jul, aug, sep])\n",
    "full_data.dropna(inplace=True)"
   ]
  },
  {
   "cell_type": "code",
   "execution_count": 4,
   "metadata": {},
   "outputs": [],
   "source": [
    "full_data['available rate'] = full_data['lots_available'] / full_data['total_lots']\n",
    "full_data.dropna(inplace=True)\n",
    "grped_full = full_data.groupby(full_data.carpark_number)"
   ]
  },
  {
   "cell_type": "markdown",
   "metadata": {},
   "source": [
    "For each carpark, we use the first 70% as training data and last 30% as testing data. We will use previous 8*24 hours availability as features to predict the next 24 hours availability.\n",
    "We slice out the data for each carpark and resample them to fill in missing values. Then we prepare training and testing features and labels."
   ]
  },
  {
   "cell_type": "code",
   "execution_count": 5,
   "metadata": {},
   "outputs": [],
   "source": [
    "# helper method to create inputs and outputs from a given dataset\n",
    "def prep_train_test(dataset, feature_len):\n",
    "    X = []\n",
    "    Y = []\n",
    "    for i in range(feature_len, len(dataset)-24):\n",
    "        X.append(dataset['available rate'][i-feature_len:i].values)\n",
    "        Y.append(dataset['available rate'][i:i+24].values)\n",
    "        # if np.isnan(X[-1]).any():\n",
    "        #     print(X[-1])\n",
    "        # if np.isnan(Y[-1]).any():\n",
    "        #     print(Y[-1])\n",
    "    return X, Y"
   ]
  },
  {
   "cell_type": "code",
   "execution_count": 14,
   "metadata": {},
   "outputs": [
    {
     "name": "stdout",
     "output_type": "stream",
     "text": [
      "total ids: 1965\n",
      "855\n",
      "Lossy data. Dropped\n",
      "100 done\n",
      "200 done\n",
      "300 done\n",
      "400 done\n",
      "500 done\n",
      "730\n",
      "Lossy data. Dropped\n",
      "730\n",
      "Lossy data. Dropped\n",
      "600 done\n",
      "700 done\n",
      "800 done\n",
      "900 done\n",
      "1000 done\n",
      "1100 done\n",
      "83\n",
      "Lossy data. Dropped\n",
      "1200 done\n",
      "1300 done\n",
      "1400 done\n",
      "1500 done\n",
      "1600 done\n",
      "1700 done\n",
      "1800 done\n",
      "1900 done\n"
     ]
    }
   ],
   "source": [
    "carparks = grped_full.carpark_number.unique()\n",
    "trainX, trainY = [], []\n",
    "testX, testY = [], []\n",
    "feature_len = 24*8\n",
    "split = 0.3\n",
    "print(\"total ids:\", len(carparks))\n",
    "index = 0\n",
    "for id in carparks:\n",
    "    slice = grped_full.get_group(id[0])\n",
    "    slice = slice.resample('1h').mean()\n",
    "    if slice.shape[0] != 2208:\n",
    "        print(slice.shape[0])\n",
    "        print(\"Lossy data. Dropped\")\n",
    "        continue\n",
    "    if slice.isnull().values.any():\n",
    "        slice.fillna(method='ffill', inplace=True)\n",
    "    split_index = int(slice.shape[0] * split)\n",
    "    X_train1, Y_train1 = prep_train_test(slice[:split_index], feature_len)\n",
    "    X_test1, Y_test1 = prep_train_test(slice[split_index:], feature_len)\n",
    "    trainX.extend(X_train1)\n",
    "    trainY.extend(Y_train1)\n",
    "    testX.extend(X_test1)\n",
    "    testY.extend(Y_test1)\n",
    "    index += 1\n",
    "    if index % 100 == 0:\n",
    "        print(index, \"done\")\n",
    "trainX = np.array(trainX)\n",
    "trainY = np.array(trainY)\n",
    "testX = np.array(testX)\n",
    "testY = np.array(testY)\n"
   ]
  },
  {
   "cell_type": "code",
   "execution_count": 19,
   "metadata": {},
   "outputs": [
    {
     "name": "stdout",
     "output_type": "stream",
     "text": [
      "train test length: (874606, 192) (874606, 24)\n",
      "testing test length: (2608130, 192) (2608130, 24)\n",
      "input shape: (192,)\n",
      "output shape: (24,)\n"
     ]
    }
   ],
   "source": [
    "print(\"train test length:\", trainX.shape, trainY.shape)\n",
    "print(\"testing test length:\", testX.shape, testY.shape)\n",
    "print(\"input shape:\", trainX[0].shape)\n",
    "print(\"output shape:\", trainY[0].shape)"
   ]
  },
  {
   "cell_type": "markdown",
   "metadata": {},
   "source": [
    "# Model 1: Multi-layer perceptron (MLP)"
   ]
  },
  {
   "cell_type": "markdown",
   "metadata": {},
   "source": [
    "### In this section, we will use MLP model to predict the parking availability within the next 24 hours"
   ]
  },
  {
   "cell_type": "code",
   "execution_count": 133,
   "metadata": {},
   "outputs": [],
   "source": [
    "# Import libraries\n",
    "from sklearn import metrics\n",
    "from sklearn.neural_network import MLPRegressor\n",
    "import matplotlib.pyplot as plt\n",
    "from sklearn.model_selection import GridSearchCV\n",
    "\n",
    "plt.style.use('ggplot')\n"
   ]
  },
  {
   "cell_type": "code",
   "execution_count": 134,
   "metadata": {},
   "outputs": [],
   "source": [
    "## Q2 data \n",
    "def prep_train_test_Q2(dataset, feature_len):\n",
    "    X = []\n",
    "    Y = []\n",
    "    for i in range(feature_len, len(dataset)):\n",
    "        X.append(dataset['available rate'][i-feature_len:i].values)\n",
    "        Y.append(dataset['available rate'][i])\n",
    "    X = np.array(X)\n",
    "    Y = np.array(Y)\n",
    "    print(X.shape, Y.shape)\n",
    "    return X, Y"
   ]
  },
  {
   "cell_type": "code",
   "execution_count": 123,
   "metadata": {},
   "outputs": [
    {
     "name": "stderr",
     "output_type": "stream",
     "text": [
      "/var/folders/_b/lkm0k5zn1cq5vrps1mrqwcb00000gn/T/ipykernel_82585/3714205907.py:6: FutureWarning: The default value of numeric_only in DataFrameGroupBy.mean is deprecated. In a future version, numeric_only will default to False. Either specify numeric_only or select only columns which should be valid for the function.\n",
      "  jul = jul.resample('1h').mean()\n",
      "/var/folders/_b/lkm0k5zn1cq5vrps1mrqwcb00000gn/T/ipykernel_82585/3714205907.py:9: FutureWarning: The default value of numeric_only in DataFrameGroupBy.mean is deprecated. In a future version, numeric_only will default to False. Either specify numeric_only or select only columns which should be valid for the function.\n",
      "  aug = aug.resample('1h').mean()\n"
     ]
    }
   ],
   "source": [
    "## Q2 data\n",
    "rg_jul = pd.Series(pd.date_range(\n",
    "    '7/1/2022', '8/1/2022', freq='1h', inclusive='left'))\n",
    "rg_aug = pd.Series(pd.date_range(\n",
    "    '8/1/2022', '9/1/2022', freq='1h', inclusive='left'))\n",
    "jul = jul.resample('1h').mean()\n",
    "jul['available rate'] = jul['lots_available'] / jul['total_lots']\n",
    "\n",
    "aug = aug.resample('1h').mean()\n",
    "aug['available rate'] = aug['lots_available'] / aug['total_lots']\n",
    "\n"
   ]
  },
  {
   "cell_type": "code",
   "execution_count": 136,
   "metadata": {},
   "outputs": [
    {
     "name": "stdout",
     "output_type": "stream",
     "text": [
      "float64 float64\n",
      "float64 float64\n",
      "False False\n",
      "False False\n",
      "(874606, 192) (874606, 24)\n",
      "(2608130, 192) (2608130, 24)\n"
     ]
    }
   ],
   "source": [
    "## Q3 data\n",
    "print(trainX.dtype,trainY.dtype)\n",
    "print(testX.dtype,testY.dtype)\n",
    "print(np.isnan(trainX).any() ,np.isnan(trainY).any())\n",
    "print(np.isnan(testX).any() ,np.isnan(testY).any())\n",
    "print(trainX.shape,trainY.shape)\n",
    "print(testX.shape,testY.shape)"
   ]
  },
  {
   "cell_type": "code",
   "execution_count": 137,
   "metadata": {},
   "outputs": [
    {
     "name": "stdout",
     "output_type": "stream",
     "text": [
      "MLPRegressor(hidden_layer_sizes=(50,), max_iter=1000)\n"
     ]
    }
   ],
   "source": [
    "## Q3 data for modelling, not working\n",
    "model = MLPRegressor(activation='relu', hidden_layer_sizes=(50,),\n",
    "             max_iter=1000, solver='adam')\n",
    "model.fit(trainX,trainY)\n",
    "print(model)"
   ]
  },
  {
   "cell_type": "markdown",
   "metadata": {},
   "source": [
    "#### MLP regressor"
   ]
  },
  {
   "cell_type": "code",
   "execution_count": 44,
   "metadata": {},
   "outputs": [
    {
     "name": "stdout",
     "output_type": "stream",
     "text": [
      "{'activation': 'identity', 'alpha': 0.0005, 'hidden_layer_sizes': (1,), 'solver': 'lbfgs'}\n",
      "MLPRegressor(activation='identity', alpha=0.0005, hidden_layer_sizes=(1,),\n",
      "             max_iter=1000, solver='lbfgs')\n"
     ]
    }
   ],
   "source": [
    "#Hyperparameter tuning\n",
    "param = {\"hidden_layer_sizes\": [(1,),(50,)], \"activation\": [\"identity\", \"logistic\", \"tanh\", \"relu\"], \"solver\": [\"lbfgs\", \"sgd\", \"adam\"], \"alpha\": [0.00005,0.0005]}\n",
    "model = MLPRegressor(max_iter = 1000)\n",
    "gridsMLP = GridSearchCV(model,param)\n",
    "\n",
    "gridsMLP.fit(X_train1,Y_train1)\n",
    "\n",
    "print(gridsMLP.best_params_)\n",
    "print(gridsMLP.best_estimator_)\n"
   ]
  },
  {
   "cell_type": "code",
   "execution_count": 45,
   "metadata": {},
   "outputs": [
    {
     "name": "stdout",
     "output_type": "stream",
     "text": [
      "MLPRegressor(activation='identity', hidden_layer_sizes=(50,), max_iter=1000,\n",
      "             solver='lbfgs')\n"
     ]
    }
   ],
   "source": [
    "model = MLPRegressor(activation='identity', hidden_layer_sizes=(50,),\n",
    "             max_iter=1000, solver='lbfgs')\n",
    "model.fit(X_train1,Y_train1)\n",
    "print(model)"
   ]
  },
  {
   "cell_type": "code",
   "execution_count": 138,
   "metadata": {},
   "outputs": [],
   "source": [
    "Y_pred = model.predict(testX)"
   ]
  },
  {
   "cell_type": "code",
   "execution_count": 139,
   "metadata": {},
   "outputs": [],
   "source": [
    "from sklearn.metrics import r2_score\n",
    "from sklearn.metrics import mean_squared_error\n",
    "from sklearn.metrics import mean_absolute_percentage_error"
   ]
  },
  {
   "cell_type": "code",
   "execution_count": 142,
   "metadata": {},
   "outputs": [
    {
     "name": "stdout",
     "output_type": "stream",
     "text": [
      "Model's r2score: 0.9492725386470046,\n",
      "RMS: 0.005455848256477322,\n",
      "Percentage Error: 1477317506649597.0 %\n"
     ]
    }
   ],
   "source": [
    "mlp_r2 = metrics.r2_score(testY, Y_pred)\n",
    "mlp_rms = metrics.mean_squared_error(testY, Y_pred)\n",
    "mlp_percentage_error = mean_absolute_percentage_error(testY, Y_pred)\n",
    "print(f\"Model's r2score: {mlp_r2},\\nRMS: {mlp_rms},\\nPercentage Error: {mlp_percentage_error*100} %\")"
   ]
  },
  {
   "cell_type": "code",
   "execution_count": 150,
   "metadata": {},
   "outputs": [
    {
     "data": {
      "text/plain": [
       "<matplotlib.legend.Legend at 0x151e7fa30>"
      ]
     },
     "execution_count": 150,
     "metadata": {},
     "output_type": "execute_result"
    },
    {
     "data": {
      "image/png": "[encoded data removed]",
      "text/plain": [
       "<Figure size 640x480 with 1 Axes>"
      ]
     },
     "metadata": {},
     "output_type": "display_data"
    }
   ],
   "source": [
    "plt.plot(Y_pred[93], label='Y_pred')\n",
    "plt.plot(testY[93], label='actual')\n",
    "plt.legend()"
   ]
  },
  {
   "cell_type": "code",
   "execution_count": 50,
   "metadata": {},
   "outputs": [
    {
     "data": {
      "text/plain": [
       "Text(0, 0.5, 'Actual')"
      ]
     },
     "execution_count": 50,
     "metadata": {},
     "output_type": "execute_result"
    },
    {
     "data": {
      "image/png": "[encoded data removed]",
      "text/plain": [
       "<Figure size 432x288 with 1 Axes>"
      ]
     },
     "metadata": {},
     "output_type": "display_data"
    }
   ],
   "source": [
    "plt.scatter(Y_pred, Y_test1, label='Y_pred', color='orange')\n",
    "plt.plot([0, 1], [0, 1], transform=plt.gca().transAxes)\n",
    "plt.xlabel('Predicted', fontsize=10)\n",
    "plt.ylabel('Actual', fontsize=10)"
   ]
  },
  {
   "cell_type": "markdown",
   "metadata": {},
   "source": [
    "# Model 2: Linear Regression"
   ]
  },
  {
   "cell_type": "markdown",
   "metadata": {},
   "source": [
    "# Model 3: LSTM"
   ]
  },
  {
   "cell_type": "code",
   "execution_count": 9,
   "metadata": {},
   "outputs": [],
   "source": [
    "import numpy as np\n",
    "import matplotlib.pyplot as plt\n",
    "import pandas as pd\n",
    "import tensorflow as tf\n",
    "from tensorflow.keras.models import Sequential\n",
    "from tensorflow.keras.layers import Dense\n",
    "from tensorflow.keras.layers import LSTM\n",
    "from sklearn.preprocessing import MinMaxScaler\n",
    "from sklearn.metrics import mean_squared_error"
   ]
  },
  {
   "cell_type": "code",
   "execution_count": 21,
   "metadata": {},
   "outputs": [
    {
     "name": "stdout",
     "output_type": "stream",
     "text": [
      "(2608130, 1, 192)\n"
     ]
    }
   ],
   "source": [
    "# reshape input to be [samples, time steps, features]\n",
    "trainX1 = np.reshape(trainX, (trainX.shape[0], 1, trainX.shape[1]))\n",
    "testX1 = np.reshape(testX, (testX.shape[0], 1, testX.shape[1]))\n",
    "trainX1.shape\n",
    "print(testX1.shape)"
   ]
  },
  {
   "cell_type": "code",
   "execution_count": 44,
   "metadata": {},
   "outputs": [
    {
     "name": "stdout",
     "output_type": "stream",
     "text": [
      "Epoch 1/20\n",
      "13666/13666 - 66s - loss: 0.0064 - 66s/epoch - 5ms/step\n",
      "Epoch 2/20\n",
      "13666/13666 - 60s - loss: 0.0049 - 60s/epoch - 4ms/step\n",
      "Epoch 3/20\n",
      "13666/13666 - 60s - loss: 0.0046 - 60s/epoch - 4ms/step\n",
      "Epoch 4/20\n",
      "13666/13666 - 60s - loss: 0.0045 - 60s/epoch - 4ms/step\n",
      "Epoch 5/20\n",
      "13666/13666 - 62s - loss: 0.0044 - 62s/epoch - 5ms/step\n",
      "Epoch 6/20\n",
      "13666/13666 - 60s - loss: 0.0043 - 60s/epoch - 4ms/step\n",
      "Epoch 7/20\n",
      "13666/13666 - 61s - loss: 0.0043 - 61s/epoch - 4ms/step\n",
      "Epoch 8/20\n",
      "13666/13666 - 62s - loss: 0.0042 - 62s/epoch - 5ms/step\n",
      "Epoch 9/20\n",
      "13666/13666 - 61s - loss: 0.0042 - 61s/epoch - 4ms/step\n",
      "Epoch 10/20\n",
      "13666/13666 - 60s - loss: 0.0041 - 60s/epoch - 4ms/step\n",
      "Epoch 11/20\n",
      "13666/13666 - 57s - loss: 0.0041 - 57s/epoch - 4ms/step\n",
      "Epoch 12/20\n",
      "13666/13666 - 66s - loss: 0.0041 - 66s/epoch - 5ms/step\n",
      "Epoch 13/20\n",
      "13666/13666 - 71s - loss: 0.0040 - 71s/epoch - 5ms/step\n",
      "Epoch 14/20\n",
      "13666/13666 - 67s - loss: 0.0040 - 67s/epoch - 5ms/step\n",
      "Epoch 15/20\n",
      "13666/13666 - 58s - loss: 0.0040 - 58s/epoch - 4ms/step\n",
      "Epoch 16/20\n",
      "13666/13666 - 59s - loss: 0.0040 - 59s/epoch - 4ms/step\n",
      "Epoch 17/20\n",
      "13666/13666 - 58s - loss: 0.0039 - 58s/epoch - 4ms/step\n",
      "Epoch 18/20\n",
      "13666/13666 - 59s - loss: 0.0040 - 59s/epoch - 4ms/step\n",
      "Epoch 19/20\n",
      "13666/13666 - 59s - loss: 0.0039 - 59s/epoch - 4ms/step\n",
      "Epoch 20/20\n",
      "13666/13666 - 57s - loss: 0.0039 - 57s/epoch - 4ms/step\n"
     ]
    },
    {
     "data": {
      "text/plain": [
       "<keras.callbacks.History at 0x20ba20f78c8>"
      ]
     },
     "execution_count": 44,
     "metadata": {},
     "output_type": "execute_result"
    }
   ],
   "source": [
    "# create and fit the LSTM network\n",
    "model = Sequential()\n",
    "model.add(LSTM(192, input_shape=(1,192), activation=\"relu\"))\n",
    "model.add(Dense(24))\n",
    "model.compile(loss='mean_squared_error', optimizer='adam')\n",
    "model.fit(trainX1, trainY, epochs=20, batch_size=64, verbose=2)"
   ]
  },
  {
   "cell_type": "code",
   "execution_count": 45,
   "metadata": {},
   "outputs": [
    {
     "name": "stdout",
     "output_type": "stream",
     "text": [
      "81505/81505 [==============================] - 242s 3ms/step\n"
     ]
    }
   ],
   "source": [
    "ypred_lstm = model.predict(testX1)"
   ]
  },
  {
   "cell_type": "code",
   "execution_count": 48,
   "metadata": {},
   "outputs": [
    {
     "name": "stdout",
     "output_type": "stream",
     "text": [
      "Hour0:       RMS is 0.0021674755483789233\n",
      "        R2 Score is 0.9798385884083395\n",
      "Percentage Error is 0\n",
      "Hour1:       RMS is 0.003101125757068376\n",
      "        R2 Score is 0.9711529330870922\n",
      "Percentage Error is 1\n",
      "Hour2:       RMS is 0.0038544333649333565\n",
      "        R2 Score is 0.9641460039678306\n",
      "Percentage Error is 2\n",
      "Hour3:       RMS is 0.004380686437999644\n",
      "        R2 Score is 0.9592523327208364\n",
      "Percentage Error is 3\n",
      "Hour4:       RMS is 0.004695423711887654\n",
      "        R2 Score is 0.9563271851737539\n",
      "Percentage Error is 4\n",
      "Hour5:       RMS is 0.005034638893905739\n",
      "        R2 Score is 0.9531757803079965\n",
      "Percentage Error is 5\n",
      "Hour6:       RMS is 0.005330153534645749\n",
      "        R2 Score is 0.9504317915706594\n",
      "Percentage Error is 6\n",
      "Hour7:       RMS is 0.005541553222119979\n",
      "        R2 Score is 0.9484692361671754\n",
      "Percentage Error is 7\n",
      "Hour8:       RMS is 0.005793532818368991\n",
      "        R2 Score is 0.9461261900410924\n",
      "Percentage Error is 8\n",
      "Hour9:       RMS is 0.005912901102771065\n",
      "        R2 Score is 0.9450166476657846\n",
      "Percentage Error is 9\n",
      "Hour10:       RMS is 0.0060578413590154255\n",
      "        R2 Score is 0.943670292699406\n",
      "Percentage Error is 10\n",
      "Hour11:       RMS is 0.006117977469741339\n",
      "        R2 Score is 0.943112312949441\n",
      "Percentage Error is 11\n",
      "Hour12:       RMS is 0.006166110487609611\n",
      "        R2 Score is 0.9426668794658518\n",
      "Percentage Error is 12\n",
      "Hour13:       RMS is 0.0062198003029484365\n",
      "        R2 Score is 0.9421707651436568\n",
      "Percentage Error is 13\n",
      "Hour14:       RMS is 0.006266308073732898\n",
      "        R2 Score is 0.9417423290558387\n",
      "Percentage Error is 14\n",
      "Hour15:       RMS is 0.006296366311461931\n",
      "        R2 Score is 0.9414649851257315\n",
      "Percentage Error is 15\n",
      "Hour16:       RMS is 0.006344539994108962\n",
      "        R2 Score is 0.9410182267091978\n",
      "Percentage Error is 16\n",
      "Hour17:       RMS is 0.006344504037860109\n",
      "        R2 Score is 0.9410192954207495\n",
      "Percentage Error is 17\n",
      "Hour18:       RMS is 0.006356836613818357\n",
      "        R2 Score is 0.9409065400470698\n",
      "Percentage Error is 18\n",
      "Hour19:       RMS is 0.006376470926973693\n",
      "        R2 Score is 0.9407269759165255\n",
      "Percentage Error is 19\n",
      "Hour20:       RMS is 0.0064127192872559646\n",
      "        R2 Score is 0.940392328987555\n",
      "Percentage Error is 20\n",
      "Hour21:       RMS is 0.006471945943633067\n",
      "        R2 Score is 0.9398428865720592\n",
      "Percentage Error is 21\n",
      "Hour22:       RMS is 0.006496037214027695\n",
      "        R2 Score is 0.939617498069949\n",
      "Percentage Error is 22\n",
      "Hour23:       RMS is 0.006566000188146841\n",
      "        R2 Score is 0.9389638838843406\n",
      "Percentage Error is 23\n"
     ]
    }
   ],
   "source": [
    "from sklearn.metrics import r2_score\n",
    "from sklearn.metrics import mean_squared_error\n",
    "from sklearn.metrics import mean_absolute_percentage_error\n",
    "for i in range(24):\n",
    "    print(\"Hour{}:       RMS is {}\" .format(i,mean_squared_error(testY[:,i], ypred_lstm[:,i])) )\n",
    "    print(\"        R2 Score is {}\" .format(r2_score(testY[:,i], ypred_lstm[:,i])) )\n",
    "    print(\"Percentage Error is {}\" .format(i,mean_squared_error(testY[:,i], ypred_lstm[:,i])) )"
   ]
  },
  {
   "cell_type": "markdown",
   "metadata": {},
   "source": [
    "# Overall Flow"
   ]
  },
  {
   "cell_type": "markdown",
   "metadata": {},
   "source": [
    "Suppose we have saved the most recent 8 days data in csv files. We can use the following code to generate a condensed csv file for recent data. The data in the condensed csv file will be used for prediction. Code below shows how to generate the condensed csv file from recent 8 days data."
   ]
  },
  {
   "cell_type": "code",
   "execution_count": 42,
   "metadata": {},
   "outputs": [
    {
     "name": "stdout",
     "output_type": "stream",
     "text": [
      "Lossy data. Dropped\n",
      "Y49H\n"
     ]
    }
   ],
   "source": [
    "def generate_recent_csv():\n",
    "    df = load_data(11, days=8)\n",
    "    df['available rate'] = df['lots_available'] / df['total_lots']\n",
    "    grped = df.groupby(df.carpark_number)\n",
    "    carparks = grped.carpark_number.unique()\n",
    "    carparks = [carpark[0] for carpark in carparks]\n",
    "    new_df = pd.DataFrame(columns=carparks)\n",
    "    for id in carparks:\n",
    "        slice = grped.get_group(id)\n",
    "        slice = slice.resample('1h').mean()\n",
    "        if slice.shape[0] != 24*8:\n",
    "            print(\"Lossy data. Dropped\")\n",
    "            print(id)\n",
    "            continue\n",
    "        new_df[id] = slice['available rate'].values\n",
    "    new_df.index = slice.index\n",
    "    new_df.to_csv(\"./data/recent.csv\")\n",
    "\n",
    "generate_recent_csv()"
   ]
  },
  {
   "cell_type": "code",
   "execution_count": 14,
   "metadata": {},
   "outputs": [],
   "source": [
    "from queue import PriorityQueue\n",
    "\n",
    "def find_nearest_x(x, y, location_dict):\n",
    "    shortest = PriorityQueue()\n",
    "    for key, loc in location_dict.items():\n",
    "        dist = (loc[0] - x)**2 + (loc[1] - y)**2\n",
    "        shortest.put((-dist, key))\n",
    "        if shortest.qsize() > 5:\n",
    "            shortest.get()\n",
    "    res = [shortest.get()[1] for i in range(5)]\n",
    "    res.reverse()\n",
    "    return res\n",
    "\n",
    "def create_location_dict(loc_info: pd.DataFrame):\n",
    "    location_dict = {}\n",
    "    for row in loc_info.iterrows():\n",
    "        content = row[1]\n",
    "        name = content[0]\n",
    "        location = (content[2], content[3])\n",
    "        location_dict[name] = location\n",
    "    return location_dict\n",
    "\n",
    "def model_predict(input):\n",
    "    return input[-24:].values"
   ]
  },
  {
   "cell_type": "code",
   "execution_count": 15,
   "metadata": {},
   "outputs": [
    {
     "name": "stdout",
     "output_type": "stream",
     "text": [
      "carpark ACB prediction: [0.64516129 0.64516129 0.64516129 0.55913978 0.5483871  0.52688172\n",
      " 0.43010753 0.05376344 0.08602151 0.         0.01075269 0.07526882\n",
      " 0.02150538 0.03225806 0.03225806 0.03225806 0.03225806 0.03225806\n",
      " 0.03225806 0.05376344 0.05376344        nan 0.03225806 0.03225806]\n",
      "carpark CY prediction: [0.35483871 0.35483871 0.35483871 0.16129032 0.09677419 0.16129032\n",
      " 0.         0.         0.         0.         0.         0.\n",
      " 0.         0.         0.         0.         0.         0.\n",
      " 0.         0.         0.                nan 0.         0.        ]\n",
      "carpark WCB prediction: [0.37062937 0.42657343 0.40559441 0.3986014  0.39160839 0.37762238\n",
      " 0.37762238 0.29370629 0.3006993  0.13986014 0.00699301 0.00699301\n",
      " 0.00699301 0.00699301 0.         0.         0.         0.\n",
      " 0.         0.00699301 0.00699301        nan 0.00699301 0.00699301]\n",
      "one of the nearest carpark SR2 is not in the recent data\n",
      "one of the nearest carpark SR1 is not in the recent data\n"
     ]
    }
   ],
   "source": [
    "loc_info = pd.read_csv(\"./data/hdb-carpark-information.csv\")\n",
    "recent = pd.read_csv(\"./data/recent.csv\")\n",
    "carpark_info = create_location_dict(loc_info)\n",
    "top5 = find_nearest_x(30314.7936, 31490.4942, carpark_info)\n",
    "for id in top5:\n",
    "    if id not in recent.columns:\n",
    "        print(f\"one of the nearest carpark {id} is not in the recent data\")\n",
    "        continue\n",
    "    col = recent[id][-24*8:]\n",
    "    prediction = model_predict(col)\n",
    "    print(f\"carpark {id} prediction: {prediction}\")\n"
   ]
  },
  {
   "cell_type": "code",
   "execution_count": null,
   "metadata": {},
   "outputs": [],
   "source": []
  },
  {
   "cell_type": "code",
   "execution_count": null,
   "metadata": {},
   "outputs": [],
   "source": []
  }
 ],
 "metadata": {
  "kernelspec": {
   "display_name": "Python 3 (ipykernel)",
   "language": "python",
   "name": "python3"
  },
  "language_info": {
   "codemirror_mode": {
    "name": "ipython",
    "version": 3
   },
   "file_extension": ".py",
   "mimetype": "text/x-python",
   "name": "python",
   "nbconvert_exporter": "python",
   "pygments_lexer": "ipython3",
   "version": "3.7.13"
  },
  "vscode": {
   "interpreter": {
    "hash": "06fa57ce78302be75248b003fd848fb7a1ff049a4cd6b32b7f26c1511486e4d5"
   }
  }
 },
 "nbformat": 4,
 "nbformat_minor": 2
}
